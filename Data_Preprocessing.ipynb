{
  "nbformat": 4,
  "nbformat_minor": 0,
  "metadata": {
    "colab": {
      "provenance": [],
      "authorship_tag": "ABX9TyM/aGzHdkEFXuBUipkBgSHA",
      "include_colab_link": true
    },
    "kernelspec": {
      "name": "python3",
      "display_name": "Python 3"
    },
    "language_info": {
      "name": "python"
    }
  },
  "cells": [
    {
      "cell_type": "markdown",
      "metadata": {
        "id": "view-in-github",
        "colab_type": "text"
      },
      "source": [
        "<a href=\"https://colab.research.google.com/github/grownsandip/ML_Algo/blob/main/Data_Preprocessing.ipynb\" target=\"_parent\"><img src=\"https://colab.research.google.com/assets/colab-badge.svg\" alt=\"Open In Colab\"/></a>"
      ]
    },
    {
      "cell_type": "markdown",
      "source": [
        "**In this note book we shall learn the preprocessing of data and visualization techniques using pandas library**"
      ],
      "metadata": {
        "id": "giQcpY134T3C"
      }
    },
    {
      "cell_type": "code",
      "source": [
        "import sklearn"
      ],
      "metadata": {
        "id": "6ZdF_6bs5pqs"
      },
      "execution_count": null,
      "outputs": []
    },
    {
      "cell_type": "code",
      "source": [
        "import pandas as pd"
      ],
      "metadata": {
        "id": "qVGbeJI54ka7"
      },
      "execution_count": null,
      "outputs": []
    },
    {
      "cell_type": "code",
      "source": [
        "from sklearn.datasets import fetch_openml"
      ],
      "metadata": {
        "id": "cPPTZppZ451J"
      },
      "execution_count": null,
      "outputs": []
    },
    {
      "cell_type": "code",
      "source": [
        "df=fetch_openml('titanic',version=1,as_frame=True)['data']"
      ],
      "metadata": {
        "colab": {
          "base_uri": "https://localhost:8080/"
        },
        "id": "DbbkfjkI5FOa",
        "outputId": "5d2ca536-3ef5-418b-c8e8-5888be6efde1"
      },
      "execution_count": null,
      "outputs": [
        {
          "output_type": "stream",
          "name": "stderr",
          "text": [
            "/usr/local/lib/python3.10/dist-packages/sklearn/datasets/_openml.py:968: FutureWarning: The default value of `parser` will change from `'liac-arff'` to `'auto'` in 1.4. You can set `parser='auto'` to silence this warning. Therefore, an `ImportError` will be raised from 1.4 if the dataset is dense and pandas is not installed. Note that the pandas parser may return different data types. See the Notes Section in fetch_openml's API doc for details.\n",
            "  warn(\n"
          ]
        }
      ]
    },
    {
      "cell_type": "markdown",
      "source": [
        "getting information about the data set"
      ],
      "metadata": {
        "id": "WqiKI8jL6-Dz"
      }
    },
    {
      "cell_type": "code",
      "source": [
        "df.info()"
      ],
      "metadata": {
        "colab": {
          "base_uri": "https://localhost:8080/"
        },
        "id": "UnUYDlbN6cvz",
        "outputId": "6fe83ccd-78da-4ede-95fb-27ebbd325500"
      },
      "execution_count": null,
      "outputs": [
        {
          "output_type": "stream",
          "name": "stdout",
          "text": [
            "<class 'pandas.core.frame.DataFrame'>\n",
            "RangeIndex: 1309 entries, 0 to 1308\n",
            "Data columns (total 13 columns):\n",
            " #   Column     Non-Null Count  Dtype   \n",
            "---  ------     --------------  -----   \n",
            " 0   pclass     1309 non-null   float64 \n",
            " 1   name       1309 non-null   object  \n",
            " 2   sex        1309 non-null   category\n",
            " 3   age        1046 non-null   float64 \n",
            " 4   sibsp      1309 non-null   float64 \n",
            " 5   parch      1309 non-null   float64 \n",
            " 6   ticket     1309 non-null   object  \n",
            " 7   fare       1308 non-null   float64 \n",
            " 8   cabin      295 non-null    object  \n",
            " 9   embarked   1307 non-null   category\n",
            " 10  boat       486 non-null    object  \n",
            " 11  body       121 non-null    object  \n",
            " 12  home.dest  745 non-null    object  \n",
            "dtypes: category(2), float64(5), object(6)\n",
            "memory usage: 115.4+ KB\n"
          ]
        }
      ]
    },
    {
      "cell_type": "markdown",
      "source": [
        "**Now we are checking whether there are nay null values in the data set**"
      ],
      "metadata": {
        "id": "zHd1SluC7Du_"
      }
    },
    {
      "cell_type": "code",
      "source": [
        "df.isnull()"
      ],
      "metadata": {
        "id": "yo7GyKLJ7N6c"
      },
      "execution_count": null,
      "outputs": []
    },
    {
      "cell_type": "markdown",
      "source": [
        "now we are seeing total number of null values in each column"
      ],
      "metadata": {
        "id": "xJb6aGdT7iqN"
      }
    },
    {
      "cell_type": "code",
      "source": [
        "df.isnull().sum()"
      ],
      "metadata": {
        "id": "_TB-CLRp7ot7"
      },
      "execution_count": null,
      "outputs": []
    },
    {
      "cell_type": "markdown",
      "source": [
        "we are going the plot graph of these missing values using seabord library to visualize how impactfull they are"
      ],
      "metadata": {
        "id": "09o-VnYg8PFf"
      }
    },
    {
      "cell_type": "code",
      "source": [
        "import seaborn as sns"
      ],
      "metadata": {
        "id": "1-i2pT8s8cDp"
      },
      "execution_count": null,
      "outputs": []
    },
    {
      "cell_type": "code",
      "source": [
        "sns.set()\n",
        "miss_val_per=pd.DataFrame((df.isnull().sum()/len(df))*100)\n",
        "miss_val_per.plot(kind='bar',title='Missing value percentages',ylabel='percentage')"
      ],
      "metadata": {
        "id": "Er2NECPp8fzC"
      },
      "execution_count": null,
      "outputs": []
    },
    {
      "cell_type": "markdown",
      "source": [
        "so we have seen the body attribute column is having the most number of missing values which is not good so we drop this column"
      ],
      "metadata": {
        "id": "NZ5roSGU-Y4B"
      }
    },
    {
      "cell_type": "code",
      "source": [
        "print(f'shape of data set:{df.shape}')"
      ],
      "metadata": {
        "colab": {
          "base_uri": "https://localhost:8080/"
        },
        "id": "q7pzygK5-p0X",
        "outputId": "1a6c5ac2-9ed3-405c-fbca-468d8249cf01"
      },
      "execution_count": null,
      "outputs": [
        {
          "output_type": "stream",
          "name": "stdout",
          "text": [
            "shape of data set:(1309, 13)\n"
          ]
        }
      ]
    },
    {
      "cell_type": "code",
      "source": [
        "df.drop(['body'],axis=1,inplace=True)\n",
        "print(f'shape of data set:{df.shape}')"
      ],
      "metadata": {
        "colab": {
          "base_uri": "https://localhost:8080/"
        },
        "id": "UdPthwaE-7a8",
        "outputId": "987badc5-29da-4582-badc-2b4c7e6b8bbb"
      },
      "execution_count": null,
      "outputs": [
        {
          "output_type": "stream",
          "name": "stdout",
          "text": [
            "shape of data set:(1309, 12)\n"
          ]
        }
      ]
    },
    {
      "cell_type": "markdown",
      "source": [
        "instead of removing column we can perform data imputation which basically means that missing data will be filled with mean or median values lets see how this goes"
      ],
      "metadata": {
        "id": "6X1ujtbMBlPj"
      }
    },
    {
      "cell_type": "code",
      "source": [
        "from sklearn.impute import SimpleImputer"
      ],
      "metadata": {
        "id": "q47GX8mRB9yD"
      },
      "execution_count": null,
      "outputs": []
    },
    {
      "cell_type": "code",
      "source": [
        "print(f'No of missing values before imputing:{df.age.isnull().sum()}')"
      ],
      "metadata": {
        "colab": {
          "base_uri": "https://localhost:8080/"
        },
        "id": "h4rPDRE_CUSN",
        "outputId": "9815ab4b-f9a2-4f0d-b1f5-04d3303bc0fd"
      },
      "execution_count": null,
      "outputs": [
        {
          "output_type": "stream",
          "name": "stdout",
          "text": [
            "No of missing values before imputing:263\n"
          ]
        }
      ]
    },
    {
      "cell_type": "code",
      "source": [
        "im=SimpleImputer(strategy='mean') #creating an simple imputer and applying mean strategy\n",
        "df['age']=im.fit_transform(df[['age']]) #transforming our age columm according to our strategy\n",
        "print(f'No of missing values in age after imputing:{df.age.isnull().sum()}')"
      ],
      "metadata": {
        "colab": {
          "base_uri": "https://localhost:8080/"
        },
        "id": "-aZgyvCaDQkh",
        "outputId": "b08070ad-9755-43db-8a94-af6ef688d216"
      },
      "execution_count": null,
      "outputs": [
        {
          "output_type": "stream",
          "name": "stdout",
          "text": [
            "No of missing values in age after imputing:0\n"
          ]
        }
      ]
    },
    {
      "cell_type": "markdown",
      "source": [
        "lets create a seperate strategy function as mean and median can be done only for int data types lets do something for the other data types also"
      ],
      "metadata": {
        "id": "QCQ-8ILdHEo7"
      }
    },
    {
      "cell_type": "code",
      "source": [
        "def get_parameters(df):\n",
        "  parameters={}\n",
        "  for col in df.columns[df.isnull().any()]:\n",
        "     if df[col].dtype=='int64' or df[col].dtype=='float64' or df[col].dtype=='int32':\n",
        "       strategy='mean'\n",
        "     else:\n",
        "       strategy='most_frequent'\n",
        "     missing_values=df[col][df[col].isnull()].values[0]\n",
        "     parameters[col]={'missing_values':missing_values,strategy:'strategy'}\n",
        "  return parameters\n",
        "\n",
        "get_parameters(df)"
      ],
      "metadata": {
        "colab": {
          "base_uri": "https://localhost:8080/"
        },
        "id": "Iz2kcVxJHRDf",
        "outputId": "53669ae2-599d-474c-a96c-126467e4fbb7"
      },
      "execution_count": null,
      "outputs": [
        {
          "output_type": "execute_result",
          "data": {
            "text/plain": [
              "{'fare': {'missing_values': nan, 'mean': 'strategy'},\n",
              " 'cabin': {'missing_values': None, 'most_frequent': 'strategy'},\n",
              " 'embarked': {'missing_values': nan, 'most_frequent': 'strategy'},\n",
              " 'boat': {'missing_values': None, 'most_frequent': 'strategy'},\n",
              " 'home.dest': {'missing_values': None, 'most_frequent': 'strategy'}}"
            ]
          },
          "metadata": {},
          "execution_count": 28
        }
      ]
    },
    {
      "cell_type": "code",
      "source": [
        "parameters=get_parameters(df)"
      ],
      "metadata": {
        "id": "QUwLUeU9L-jr"
      },
      "execution_count": null,
      "outputs": []
    },
    {
      "cell_type": "markdown",
      "source": [
        "now we are going to impute the parameters"
      ],
      "metadata": {
        "id": "c6qes4ESMHN6"
      }
    },
    {
      "cell_type": "code",
      "source": [
        "for col,param in parameters.items():\n",
        "  missing_values=param['missing_values']\n",
        "  strategy=param['strategy']\n",
        "  imp2=SimpleImputer(missing_values=missing_values,strategy=strategy)\n",
        "  df[col]=imp2.fit_transform(df[[col]])"
      ],
      "metadata": {
        "id": "TdOdWZ1YMMjN"
      },
      "execution_count": null,
      "outputs": []
    },
    {
      "cell_type": "code",
      "source": [
        "print(parameters)"
      ],
      "metadata": {
        "id": "Y5Vay3xKMFny"
      },
      "execution_count": null,
      "outputs": []
    },
    {
      "cell_type": "code",
      "source": [
        "df.head()"
      ],
      "metadata": {
        "id": "ac3vYkgJTOHE"
      },
      "execution_count": null,
      "outputs": []
    },
    {
      "cell_type": "markdown",
      "source": [
        "lets now club the items on baisis of sibsp and parch to find if person travelled alone or not"
      ],
      "metadata": {
        "id": "Jn9HNU6qTrb5"
      }
    },
    {
      "cell_type": "code",
      "source": [
        "df['family']=df['sibsp']+df['parch']\n",
        "df.loc[df['family']>0,'travelled_alone']=0\n",
        "df.loc[df['family']==0,'travelled_alone']=1\n",
        "df['travelled_alone'].value_counts().plot(title='passenger travelled alone?',kind='bar')\n"
      ],
      "metadata": {
        "colab": {
          "base_uri": "https://localhost:8080/",
          "height": 507
        },
        "id": "2WpbKvM3Tz0S",
        "outputId": "768527e2-bbca-46d7-e27c-b27eecc922a3"
      },
      "execution_count": null,
      "outputs": [
        {
          "output_type": "execute_result",
          "data": {
            "text/plain": [
              "<Axes: title={'center': 'passenger travelled alone?'}, xlabel='travelled_alone'>"
            ]
          },
          "metadata": {},
          "execution_count": 49
        },
        {
          "output_type": "display_data",
          "data": {
            "text/plain": [
              "<Figure size 640x480 with 1 Axes>"
            ],
            "image/png": "[encoded data removed]"
          },
          "metadata": {}
        }
      ]
    }
  ]
}